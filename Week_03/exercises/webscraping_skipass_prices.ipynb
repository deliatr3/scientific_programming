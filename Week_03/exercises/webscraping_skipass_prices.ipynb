{
 "cells": [
  {
   "cell_type": "markdown",
   "metadata": {},
   "source": [
    "# Web Scraping Skipass Prices with Python and Beautifulsoup\n",
    "\n",
    "Data from: https://www.skiinfo.de/schweiz/skipaesse"
   ]
  },
  {
   "cell_type": "markdown",
   "metadata": {},
   "source": [
    "## Libraries and settings"
   ]
  },
  {
   "cell_type": "code",
   "execution_count": null,
   "metadata": {},
   "outputs": [],
   "source": [
    "import requests\n",
    "import pandas as pd\n",
    "from bs4 import BeautifulSoup\n",
    "import matplotlib.pyplot as plt"
   ]
  },
  {
   "cell_type": "markdown",
   "metadata": {},
   "source": [
    "## Web Scraper Skipass Data"
   ]
  },
  {
   "cell_type": "code",
   "execution_count": null,
   "metadata": {},
   "outputs": [],
   "source": [
    "# Option (1): Send an HTTP request to the URL (gets first 50 ski resorts)\n",
    "# url = 'https://www.skiinfo.de/schweiz/skipaesse'\n",
    "# response = requests.get(url)\n",
    "# html_content = response.content\n",
    "\n",
    "# Option (2): Read html from file (gets all ski resorts)\n",
    "# Read html from file\n",
    "with open('./data/skipass.html', 'r') as file:\n",
    "    html_content = file.read()\n",
    "\n",
    "# Parse the HTML content\n",
    "soup = BeautifulSoup(html_content, 'html.parser')\n",
    "\n",
    "# Locate the table and extract values\n",
    "table = soup.find('table')\n",
    "\n",
    "# Extract table headers\n",
    "headers = [header.get_text().replace('\\xa0', '') for header in table.find_all('th')]\n",
    "\n",
    "# Extract table rows\n",
    "rows = []\n",
    "for row in table.find_all('tr')[1:]:\n",
    "    cells = row.find_all('td')\n",
    "    row_data = [cell.get_text().replace('\\xa0', '').strip() for cell in cells]\n",
    "    rows.append(row_data)\n",
    "\n",
    "# Create a DataFrame\n",
    "df = pd.DataFrame(rows, columns=headers)\n",
    "\n",
    "import pandas as pd\n",
    "\n",
    "# Change column names\n",
    "df.columns = [\n",
    "    'ski_resort', \n",
    "    'season_ticket_adults', \n",
    "    'season_ticket_children', \n",
    "    'day_ticket_adults',\n",
    "    'day_ticket_children',\n",
    "    'buy_online'\n",
    "]\n",
    "\n",
    "# Show DataFrame dimensions\n",
    "print('Number of rows and columns:', df.shape)\n",
    "\n",
    "# Show data types of the columns\n",
    "print('\\nData types of the columns:\\n', df.dtypes)\n",
    "\n",
    "# Change data types and remove special characters\n",
    "df['season_ticket_adults'] = pd.to_numeric(df['season_ticket_adults'].str.replace(',', ''), errors='coerce')\n",
    "df['season_ticket_children'] = pd.to_numeric(df['season_ticket_children'].str.replace(',', ''), errors='coerce')\n",
    "df['day_ticket_adults'] = pd.to_numeric(df['day_ticket_adults'].str.replace(',', ''), errors='coerce')\n",
    "df['day_ticket_children'] = pd.to_numeric(df['day_ticket_children'].str.replace(',', ''), errors='coerce')\n",
    "\n",
    "# Show the first few rows\n",
    "df.head(10)"
   ]
  },
  {
   "cell_type": "markdown",
   "metadata": {},
   "source": [
    "## Summary Statistics"
   ]
  },
  {
   "cell_type": "code",
   "execution_count": null,
   "metadata": {},
   "outputs": [],
   "source": [
    "# Summary statistics\n",
    "df.describe()"
   ]
  },
  {
   "cell_type": "markdown",
   "metadata": {},
   "source": [
    "## Histogram of Skipass Prices"
   ]
  },
  {
   "cell_type": "code",
   "execution_count": null,
   "metadata": {},
   "outputs": [],
   "source": [
    "# Histograms\n",
    "fig, axes = plt.subplots(2, 2, figsize=(7, 6))\n",
    "\n",
    "df['season_ticket_adults'].plot(\n",
    "    kind='hist',\n",
    "    bins=20,\n",
    "    edgecolor='black',\n",
    "    color='greenyellow', \n",
    "    ax=axes[0, 0]\n",
    ")\n",
    "axes[0, 0].set_title('Histogram of season_ticket_adults', fontsize=11)\n",
    "axes[0, 0].set_xlabel('Price')\n",
    "axes[0, 0].set_ylabel('Frequency')\n",
    "\n",
    "df['season_ticket_children'].plot(\n",
    "    kind='hist', \n",
    "    bins=20,\n",
    "    edgecolor='black',\n",
    "    color='orange',  \n",
    "    ax=axes[0, 1]\n",
    ")\n",
    "axes[0, 1].set_title('Histogram of season_ticket_children', fontsize=11)\n",
    "axes[0, 1].set_xlabel('Price')\n",
    "axes[0, 1].set_ylabel('Frequency')\n",
    "\n",
    "df['day_ticket_adults'].plot(\n",
    "    kind='hist', \n",
    "    bins=20,\n",
    "    edgecolor='black',\n",
    "    color='darkred', \n",
    "    ax=axes[1, 0]\n",
    ")\n",
    "axes[1, 0].set_title('Histogram of day_ticket_adults', fontsize=11)\n",
    "axes[1, 0].set_xlabel('Price')\n",
    "axes[1, 0].set_ylabel('Frequency')\n",
    "\n",
    "df['day_ticket_children'].plot(\n",
    "    kind='hist', \n",
    "    bins=20,\n",
    "    edgecolor='black',\n",
    "    color='blue', \n",
    "    ax=axes[1, 1]\n",
    ")\n",
    "axes[1, 1].set_title('Histogram of day_ticket_children', fontsize=11)\n",
    "axes[1, 1].set_xlabel('Price')\n",
    "axes[1, 1].set_ylabel('Frequency')\n",
    "\n",
    "plt.tight_layout()\n",
    "plt.show()\n"
   ]
  },
  {
   "cell_type": "markdown",
   "metadata": {},
   "source": [
    "### Jupyter notebook --footer info-- (please always provide this at the end of each notebook)"
   ]
  },
  {
   "cell_type": "code",
   "execution_count": null,
   "metadata": {},
   "outputs": [],
   "source": [
    "import os\n",
    "import platform\n",
    "import socket\n",
    "from platform import python_version\n",
    "from datetime import datetime\n",
    "\n",
    "print('-----------------------------------')\n",
    "print(os.name.upper())\n",
    "print(platform.system(), '|', platform.release())\n",
    "print('Datetime:', datetime.now().strftime(\"%Y-%m-%d %H:%M:%S\"))\n",
    "print('Python Version:', python_version())\n",
    "print('-----------------------------------')"
   ]
  }
 ],
 "metadata": {
  "kernelspec": {
   "display_name": "spenv",
   "language": "python",
   "name": "python3"
  },
  "language_info": {
   "codemirror_mode": {
    "name": "ipython",
    "version": 3
   },
   "file_extension": ".py",
   "mimetype": "text/x-python",
   "name": "python",
   "nbconvert_exporter": "python",
   "pygments_lexer": "ipython3",
   "version": "3.11.10"
  }
 },
 "nbformat": 4,
 "nbformat_minor": 2
}
