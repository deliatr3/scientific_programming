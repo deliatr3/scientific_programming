{
 "cells": [
  {
   "cell_type": "markdown",
   "metadata": {},
   "source": [
    "# Web Scraping Rental Apartment Data with Python and Beautifulsoup\n",
    "\n",
    "Data from: https://www.immoscout24.ch/de/immobilien/mieten/ort-zuerich?pn=1"
   ]
  },
  {
   "cell_type": "markdown",
   "metadata": {},
   "source": [
    "## Libraries and settings"
   ]
  },
  {
   "cell_type": "code",
   "execution_count": null,
   "metadata": {},
   "outputs": [],
   "source": [
    "import requests\n",
    "import pandas as pd\n",
    "from bs4 import BeautifulSoup\n",
    "import matplotlib.pyplot as plt"
   ]
  },
  {
   "cell_type": "markdown",
   "metadata": {},
   "source": [
    "## Example of scraping data from a website with BeautifulSoup"
   ]
  },
  {
   "cell_type": "code",
   "execution_count": null,
   "metadata": {},
   "outputs": [],
   "source": [
    "# Send a GET request to the input URL\n",
    "response = requests.get('https://www.immoscout24.ch/de/immobilien/mieten/ort-zuerich?pn=1')\n",
    "\n",
    "# Parse the content of the request with BeautifulSoup\n",
    "soup = BeautifulSoup(response.content, 'html.parser')\n",
    "\n",
    "# Extract the listings from the parsed content\n",
    "# 'div' is the HTML tag (division) of the element that contains the listings\n",
    "# 'class_' is the CSS class of the element that contains the listings\n",
    "listings = soup.find_all('div', class_='HgListingRoomsLivingSpacePrice_roomsLivingSpacePrice_M6Ktp')\n",
    "\n",
    "# Show first 10 listings\n",
    "listings[0:10]\n"
   ]
  },
  {
   "cell_type": "markdown",
   "metadata": {},
   "source": [
    "## Web Scraper function"
   ]
  },
  {
   "cell_type": "code",
   "execution_count": null,
   "metadata": {},
   "outputs": [],
   "source": [
    "# Function to extract the listings from a given URL\n",
    "def extract_listing_info(url):\n",
    "\n",
    "    # Send a GET request to the input URL\n",
    "    response = requests.get(url)\n",
    "\n",
    "    # Parse the content of the request with BeautifulSoup\n",
    "    soup = BeautifulSoup(response.content, 'html.parser')\n",
    "    \n",
    "    # Extract the listings from the parsed content\n",
    "    listings = soup.find_all('div', class_='HgListingCard_info_RKrwz')\n",
    "    \n",
    "    # Initialize an empty list to store the extracted data\n",
    "    extracted_data = []\n",
    "    \n",
    "    # Loop through the listings and extract the required information\n",
    "    for listing in listings:\n",
    "        # Extract address\n",
    "        address_tag = listing.find('address')\n",
    "        address = address_tag.text.strip() if address_tag else 'N/A'\n",
    "\n",
    "        # Extract rooms, living area, and price\n",
    "        info_section = listing.find('div', class_='HgListingRoomsLivingSpacePrice_roomsLivingSpacePrice_M6Ktp')\n",
    "        if info_section:\n",
    "            info_text = [strong.text.strip() for strong in info_section.find_all('strong')]\n",
    "            rooms = info_text[0] if len(info_text) > 0 else 'N/A'\n",
    "            living_area = info_text[1] if len(info_text) > 1 else 'N/A'\n",
    "            price_tag = info_section.find('span', class_='HgListingRoomsLivingSpacePrice_price_u9Vee')\n",
    "            price = price_tag.text.strip() if price_tag else 'N/A'\n",
    "        else:\n",
    "            rooms, living_area, price = 'N/A', 'N/A', 'N/A'\n",
    "\n",
    "        # Extract title and description\n",
    "        title_tag = listing.find('p', class_='HgListingDescription_title_NAAxy')\n",
    "        title = title_tag.text.strip() if title_tag else 'N/A'\n",
    "\n",
    "        description_tag = listing.find('p', class_='HgListingDescription_large_uKs3J')\n",
    "        description = description_tag.text.strip() if description_tag else 'N/A'\n",
    "\n",
    "        # Append extracted data to the list\n",
    "        extracted_data.append({\n",
    "            'address_raw': address,\n",
    "            'rooms_raw': rooms,\n",
    "            'area_raw': living_area,\n",
    "            'price_raw': price,\n",
    "            'title_raw': title,\n",
    "            'description_raw': description\n",
    "        })\n",
    "    \n",
    "    # Return the extracted data\n",
    "    return extracted_data\n"
   ]
  },
  {
   "cell_type": "markdown",
   "metadata": {},
   "source": [
    "## Call the Web Scraper function to get apartment data from the 1st page"
   ]
  },
  {
   "cell_type": "code",
   "execution_count": null,
   "metadata": {},
   "outputs": [],
   "source": [
    "# Scrape 1st page\n",
    "url = 'https://www.immoscout24.ch/de/immobilien/mieten/ort-zuerich?pn=1'\n",
    "\n",
    "# Extract listing information to a list object 'data'\n",
    "data = extract_listing_info(url)\n",
    "\n",
    "# Create DataFrame from 'data'\n",
    "df = pd.DataFrame(data)\n",
    "\n",
    "# Show the first few rows of the DataFrame\n",
    "df.head()"
   ]
  },
  {
   "cell_type": "markdown",
   "metadata": {},
   "source": [
    "## Call the Web Scraper function to get apartment data from multiple pages"
   ]
  },
  {
   "cell_type": "code",
   "execution_count": null,
   "metadata": {},
   "outputs": [],
   "source": [
    "# Scrape multiple pages\n",
    "data = []\n",
    "base_url = 'https://www.immoscout24.ch/de/immobilien/mieten/ort-zuerich?pn='\n",
    "\n",
    "for page in range(1, 4):  # pages 1 to 3\n",
    "    url = base_url + str(page)\n",
    "    print(f\"Scraping {url}...\")\n",
    "    data.extend(extract_listing_info(url))\n",
    "\n",
    "# Create DataFrame\n",
    "df = pd.DataFrame(data)\n",
    "\n",
    "# Save to CSV\n",
    "df.to_csv('./data/rental_apartments_zuerich.csv', index=False)\n",
    "\n",
    "print(\"\\nData saved to real_estate_listings.csv\")\n",
    "\n",
    "# Show the first few rows of the DataFrame\n",
    "df.head()"
   ]
  },
  {
   "cell_type": "markdown",
   "metadata": {},
   "source": [
    "## Extract prices from strings using a regular expression (regex)"
   ]
  },
  {
   "cell_type": "code",
   "execution_count": null,
   "metadata": {},
   "outputs": [],
   "source": [
    "# Extract prices from the 'price_raw' column using a regular expression (regex)\n",
    "df['price'] = df['price_raw'].str.extract(r'(\\d[\\d’]*\\d)')\n",
    "\n",
    "# Remove thousands separator and convert to float\n",
    "df['price'] = df['price'].str.replace('’', '').astype(float)\n",
    "\n",
    "# Show the first few rows of the DataFrame (selected columns)\n",
    "df[['address_raw', 'rooms_raw', 'area_raw', 'price_raw', 'price']].head()"
   ]
  },
  {
   "cell_type": "markdown",
   "metadata": {},
   "source": [
    "## Create histogram of prices"
   ]
  },
  {
   "cell_type": "code",
   "execution_count": null,
   "metadata": {},
   "outputs": [],
   "source": [
    "# Plot a histogram of the prices\n",
    "plt.figure(figsize=(7, 4))\n",
    "plt.hist(df['price'], bins=30, color='greenyellow', edgecolor='gray')\n",
    "plt.title('Histogram of prices')\n",
    "plt.xlabel('Price (CHF)')\n",
    "plt.ylabel('Frequency')\n",
    "plt.show()\n"
   ]
  },
  {
   "cell_type": "markdown",
   "metadata": {},
   "source": [
    "### Jupyter notebook --footer info-- (please always provide this at the end of each notebook)"
   ]
  },
  {
   "cell_type": "code",
   "execution_count": null,
   "metadata": {},
   "outputs": [],
   "source": [
    "import os\n",
    "import platform\n",
    "import socket\n",
    "from platform import python_version\n",
    "from datetime import datetime\n",
    "\n",
    "print('-----------------------------------')\n",
    "print(os.name.upper())\n",
    "print(platform.system(), '|', platform.release())\n",
    "print('Datetime:', datetime.now().strftime(\"%Y-%m-%d %H:%M:%S\"))\n",
    "print('Python Version:', python_version())\n",
    "print('-----------------------------------')"
   ]
  }
 ],
 "metadata": {
  "kernelspec": {
   "display_name": "spenv",
   "language": "python",
   "name": "python3"
  },
  "language_info": {
   "codemirror_mode": {
    "name": "ipython",
    "version": 3
   },
   "file_extension": ".py",
   "mimetype": "text/x-python",
   "name": "python",
   "nbconvert_exporter": "python",
   "pygments_lexer": "ipython3",
   "version": "3.11.10"
  }
 },
 "nbformat": 4,
 "nbformat_minor": 2
}
